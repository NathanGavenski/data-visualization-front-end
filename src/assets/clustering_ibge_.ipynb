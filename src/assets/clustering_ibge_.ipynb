{
 "cells": [
  {
   "cell_type": "code",
   "execution_count": 1,
   "metadata": {},
   "outputs": [],
   "source": [
    "import json\n",
    "import numpy as np\n",
    "import pandas as pd\n",
    "\n",
    "from pandas.io.json import json_normalize\n",
    "from scipy.stats import zscore\n",
    "from scipy.spatial.distance import cdist\n",
    "import collections\n",
    "\n",
    "import matplotlib.pyplot as plt\n",
    "\n",
    "from sklearn.cluster import KMeans"
   ]
  },
  {
   "cell_type": "code",
   "execution_count": 2,
   "metadata": {},
   "outputs": [],
   "source": [
    "x = pd.read_csv(\"filled_ibge.csv\", index_col='City')"
   ]
  },
  {
   "cell_type": "code",
   "execution_count": 3,
   "metadata": {},
   "outputs": [],
   "source": [
    "x = (x / 1000)\n",
    "x = x.apply(zscore)"
   ]
  },
  {
   "cell_type": "code",
   "execution_count": 4,
   "metadata": {},
   "outputs": [
    {
     "data": {
      "text/html": [
       "<div>\n",
       "<style scoped>\n",
       "    .dataframe tbody tr th:only-of-type {\n",
       "        vertical-align: middle;\n",
       "    }\n",
       "\n",
       "    .dataframe tbody tr th {\n",
       "        vertical-align: top;\n",
       "    }\n",
       "\n",
       "    .dataframe thead th {\n",
       "        text-align: right;\n",
       "    }\n",
       "</style>\n",
       "<table border=\"1\" class=\"dataframe\">\n",
       "  <thead>\n",
       "    <tr style=\"text-align: right;\">\n",
       "      <th></th>\n",
       "      <th>fundamental_schools</th>\n",
       "      <th>fundamental_teachers</th>\n",
       "      <th>PIB</th>\n",
       "      <th>Área da unidade territorial</th>\n",
       "      <th>Esgotamento sanitário adequado</th>\n",
       "      <th>Matrículas no ensino fundamental</th>\n",
       "      <th>population_last_census</th>\n",
       "      <th>medium_schools</th>\n",
       "      <th>Matrículas no ensino médio</th>\n",
       "      <th>medium_teachers</th>\n",
       "      <th>...</th>\n",
       "      <th>IDEB</th>\n",
       "      <th>IDHM</th>\n",
       "      <th>Urbanização de vias públicas</th>\n",
       "      <th>average_salary</th>\n",
       "      <th>demographic_density</th>\n",
       "      <th>estabelecimento_sus</th>\n",
       "      <th>estimated_population</th>\n",
       "      <th>occupied_people</th>\n",
       "      <th>occupied_population</th>\n",
       "      <th>receitas_fontes_externas</th>\n",
       "    </tr>\n",
       "    <tr>\n",
       "      <th>City</th>\n",
       "      <th></th>\n",
       "      <th></th>\n",
       "      <th></th>\n",
       "      <th></th>\n",
       "      <th></th>\n",
       "      <th></th>\n",
       "      <th></th>\n",
       "      <th></th>\n",
       "      <th></th>\n",
       "      <th></th>\n",
       "      <th></th>\n",
       "      <th></th>\n",
       "      <th></th>\n",
       "      <th></th>\n",
       "      <th></th>\n",
       "      <th></th>\n",
       "      <th></th>\n",
       "      <th></th>\n",
       "      <th></th>\n",
       "      <th></th>\n",
       "      <th></th>\n",
       "    </tr>\n",
       "  </thead>\n",
       "  <tbody>\n",
       "    <tr>\n",
       "      <th>ACEGUA</th>\n",
       "      <td>-0.340544</td>\n",
       "      <td>-0.253081</td>\n",
       "      <td>0.910735</td>\n",
       "      <td>1.112925</td>\n",
       "      <td>1.246101</td>\n",
       "      <td>-0.223142</td>\n",
       "      <td>-0.226647</td>\n",
       "      <td>-0.255608</td>\n",
       "      <td>-0.233676</td>\n",
       "      <td>-0.275142</td>\n",
       "      <td>...</td>\n",
       "      <td>-0.303590</td>\n",
       "      <td>-0.640952</td>\n",
       "      <td>-0.565253</td>\n",
       "      <td>0.601557</td>\n",
       "      <td>-0.265370</td>\n",
       "      <td>-0.344377</td>\n",
       "      <td>-0.223750</td>\n",
       "      <td>-0.149830</td>\n",
       "      <td>-0.068246</td>\n",
       "      <td>0.546833</td>\n",
       "    </tr>\n",
       "    <tr>\n",
       "      <th>AGUA SANTA</th>\n",
       "      <td>-0.383425</td>\n",
       "      <td>-0.271108</td>\n",
       "      <td>1.900073</td>\n",
       "      <td>-0.275100</td>\n",
       "      <td>0.589631</td>\n",
       "      <td>-0.245006</td>\n",
       "      <td>-0.235522</td>\n",
       "      <td>-0.255608</td>\n",
       "      <td>-0.258679</td>\n",
       "      <td>-0.256970</td>\n",
       "      <td>...</td>\n",
       "      <td>0.005452</td>\n",
       "      <td>0.886316</td>\n",
       "      <td>-0.436994</td>\n",
       "      <td>0.601557</td>\n",
       "      <td>-0.234040</td>\n",
       "      <td>-0.272525</td>\n",
       "      <td>-0.237506</td>\n",
       "      <td>-0.156662</td>\n",
       "      <td>-0.271035</td>\n",
       "      <td>0.188832</td>\n",
       "    </tr>\n",
       "    <tr>\n",
       "      <th>AGUDO</th>\n",
       "      <td>-0.083256</td>\n",
       "      <td>-0.086326</td>\n",
       "      <td>-0.424627</td>\n",
       "      <td>-0.007241</td>\n",
       "      <td>0.731866</td>\n",
       "      <td>-0.099477</td>\n",
       "      <td>-0.063836</td>\n",
       "      <td>-0.129582</td>\n",
       "      <td>-0.110002</td>\n",
       "      <td>-0.111596</td>\n",
       "      <td>...</td>\n",
       "      <td>0.159973</td>\n",
       "      <td>-0.471256</td>\n",
       "      <td>0.215456</td>\n",
       "      <td>-0.424035</td>\n",
       "      <td>-0.175833</td>\n",
       "      <td>-0.056969</td>\n",
       "      <td>-0.078526</td>\n",
       "      <td>-0.093692</td>\n",
       "      <td>-0.218134</td>\n",
       "      <td>-0.586836</td>\n",
       "    </tr>\n",
       "    <tr>\n",
       "      <th>AJURICABA</th>\n",
       "      <td>-0.211900</td>\n",
       "      <td>-0.192238</td>\n",
       "      <td>0.096246</td>\n",
       "      <td>-0.240761</td>\n",
       "      <td>-1.117189</td>\n",
       "      <td>-0.215057</td>\n",
       "      <td>-0.188863</td>\n",
       "      <td>-0.255608</td>\n",
       "      <td>-0.243052</td>\n",
       "      <td>-0.232741</td>\n",
       "      <td>...</td>\n",
       "      <td>0.623537</td>\n",
       "      <td>0.959043</td>\n",
       "      <td>-0.570829</td>\n",
       "      <td>-0.424035</td>\n",
       "      <td>-0.203468</td>\n",
       "      <td>-0.272525</td>\n",
       "      <td>-0.196301</td>\n",
       "      <td>-0.138663</td>\n",
       "      <td>-0.174049</td>\n",
       "      <td>0.775555</td>\n",
       "    </tr>\n",
       "    <tr>\n",
       "      <th>ALECRIM</th>\n",
       "      <td>-0.254781</td>\n",
       "      <td>-0.255334</td>\n",
       "      <td>-0.893976</td>\n",
       "      <td>-0.247549</td>\n",
       "      <td>-1.244836</td>\n",
       "      <td>-0.228267</td>\n",
       "      <td>-0.191636</td>\n",
       "      <td>-0.255608</td>\n",
       "      <td>-0.237248</td>\n",
       "      <td>-0.275142</td>\n",
       "      <td>...</td>\n",
       "      <td>0.778059</td>\n",
       "      <td>-1.004587</td>\n",
       "      <td>-1.178667</td>\n",
       "      <td>-0.424035</td>\n",
       "      <td>-0.203658</td>\n",
       "      <td>-0.056969</td>\n",
       "      <td>-0.208576</td>\n",
       "      <td>-0.157070</td>\n",
       "      <td>-0.976387</td>\n",
       "      <td>-0.000113</td>\n",
       "    </tr>\n",
       "  </tbody>\n",
       "</table>\n",
       "<p>5 rows × 22 columns</p>\n",
       "</div>"
      ],
      "text/plain": [
       "            fundamental_schools  fundamental_teachers       PIB  \\\n",
       "City                                                              \n",
       "ACEGUA                -0.340544             -0.253081  0.910735   \n",
       "AGUA SANTA            -0.383425             -0.271108  1.900073   \n",
       "AGUDO                 -0.083256             -0.086326 -0.424627   \n",
       "AJURICABA             -0.211900             -0.192238  0.096246   \n",
       "ALECRIM               -0.254781             -0.255334 -0.893976   \n",
       "\n",
       "            Área da unidade territorial  Esgotamento sanitário adequado  \\\n",
       "City                                                                      \n",
       "ACEGUA                         1.112925                        1.246101   \n",
       "AGUA SANTA                    -0.275100                        0.589631   \n",
       "AGUDO                         -0.007241                        0.731866   \n",
       "AJURICABA                     -0.240761                       -1.117189   \n",
       "ALECRIM                       -0.247549                       -1.244836   \n",
       "\n",
       "            Matrículas no ensino fundamental  population_last_census  \\\n",
       "City                                                                   \n",
       "ACEGUA                             -0.223142               -0.226647   \n",
       "AGUA SANTA                         -0.245006               -0.235522   \n",
       "AGUDO                              -0.099477               -0.063836   \n",
       "AJURICABA                          -0.215057               -0.188863   \n",
       "ALECRIM                            -0.228267               -0.191636   \n",
       "\n",
       "            medium_schools  Matrículas no ensino médio  medium_teachers  ...  \\\n",
       "City                                                                     ...   \n",
       "ACEGUA           -0.255608                   -0.233676        -0.275142  ...   \n",
       "AGUA SANTA       -0.255608                   -0.258679        -0.256970  ...   \n",
       "AGUDO            -0.129582                   -0.110002        -0.111596  ...   \n",
       "AJURICABA        -0.255608                   -0.243052        -0.232741  ...   \n",
       "ALECRIM          -0.255608                   -0.237248        -0.275142  ...   \n",
       "\n",
       "                IDEB      IDHM  Urbanização de vias públicas  average_salary  \\\n",
       "City                                                                           \n",
       "ACEGUA     -0.303590 -0.640952                     -0.565253        0.601557   \n",
       "AGUA SANTA  0.005452  0.886316                     -0.436994        0.601557   \n",
       "AGUDO       0.159973 -0.471256                      0.215456       -0.424035   \n",
       "AJURICABA   0.623537  0.959043                     -0.570829       -0.424035   \n",
       "ALECRIM     0.778059 -1.004587                     -1.178667       -0.424035   \n",
       "\n",
       "            demographic_density  estabelecimento_sus  estimated_population  \\\n",
       "City                                                                         \n",
       "ACEGUA                -0.265370            -0.344377             -0.223750   \n",
       "AGUA SANTA            -0.234040            -0.272525             -0.237506   \n",
       "AGUDO                 -0.175833            -0.056969             -0.078526   \n",
       "AJURICABA             -0.203468            -0.272525             -0.196301   \n",
       "ALECRIM               -0.203658            -0.056969             -0.208576   \n",
       "\n",
       "            occupied_people  occupied_population  receitas_fontes_externas  \n",
       "City                                                                        \n",
       "ACEGUA            -0.149830            -0.068246                  0.546833  \n",
       "AGUA SANTA        -0.156662            -0.271035                  0.188832  \n",
       "AGUDO             -0.093692            -0.218134                 -0.586836  \n",
       "AJURICABA         -0.138663            -0.174049                  0.775555  \n",
       "ALECRIM           -0.157070            -0.976387                 -0.000113  \n",
       "\n",
       "[5 rows x 22 columns]"
      ]
     },
     "execution_count": 4,
     "metadata": {},
     "output_type": "execute_result"
    }
   ],
   "source": [
    "x.head(5)"
   ]
  },
  {
   "cell_type": "code",
   "execution_count": 5,
   "metadata": {},
   "outputs": [],
   "source": [
    "distortions = []\n",
    "K = range(1, 20)\n",
    "for k in K:\n",
    "    model = KMeans(n_clusters=k, max_iter=2000).fit(x)\n",
    "    distortions.append(sum(np.min(cdist(x, model.cluster_centers_, 'euclidean'), axis=1)) / x.shape[0])"
   ]
  },
  {
   "cell_type": "code",
   "execution_count": 6,
   "metadata": {},
   "outputs": [],
   "source": [
    "fig_size = plt.rcParams[\"figure.figsize\"]\n",
    "fig_size[0] = 18\n",
    "fig_size[1] = 10\n",
    "plt.rcParams[\"figure.figsize\"] = fig_size"
   ]
  },
  {
   "cell_type": "code",
   "execution_count": 7,
   "metadata": {},
   "outputs": [
    {
     "data": {
      "image/png": "[encoded data removed]",
      "text/plain": [
       "<Figure size 1296x720 with 1 Axes>"
      ]
     },
     "metadata": {
      "needs_background": "light"
     },
     "output_type": "display_data"
    }
   ],
   "source": [
    "plt.plot(K, distortions, 'bx-')\n",
    "plt.xlabel('k')\n",
    "plt.ylabel('Distortion')\n",
    "plt.title('The Elbow Method showing the optimal k')\n",
    "plt.show()"
   ]
  },
  {
   "cell_type": "code",
   "execution_count": 8,
   "metadata": {},
   "outputs": [
    {
     "name": "stdout",
     "output_type": "stream",
     "text": [
      "Counter({8: 78, 0: 75, 4: 63, 9: 48, 10: 43, 3: 41, 14: 34, 13: 31, 5: 31, 11: 27, 12: 9, 2: 8, 7: 6, 1: 1, 6: 1})\n"
     ]
    }
   ],
   "source": [
    "model_15_centroids = KMeans(n_clusters=15, max_iter=2000).fit(x)\n",
    "result_15_centroids = model_15_centroids.predict(x)\n",
    "counter_15_centroids = collections.Counter(result_15_centroids)\n",
    "print(counter_15_centroids)"
   ]
  },
  {
   "cell_type": "code",
   "execution_count": 9,
   "metadata": {},
   "outputs": [
    {
     "name": "stdout",
     "output_type": "stream",
     "text": [
      "Counter({11: 81, 3: 51, 6: 50, 10: 49, 1: 47, 2: 42, 12: 37, 14: 34, 4: 33, 9: 25, 0: 16, 15: 12, 8: 8, 7: 6, 13: 4, 5: 1})\n"
     ]
    }
   ],
   "source": [
    "model_16_centroids = KMeans(n_clusters=16, max_iter=2000).fit(x)\n",
    "result_16_centroids = model_16_centroids.predict(x)\n",
    "counter_16_centroids = collections.Counter(result_16_centroids)\n",
    "print(counter_16_centroids)"
   ]
  },
  {
   "cell_type": "code",
   "execution_count": 10,
   "metadata": {},
   "outputs": [
    {
     "name": "stdout",
     "output_type": "stream",
     "text": [
      "Counter({3: 79, 8: 62, 10: 55, 5: 41, 11: 41, 0: 37, 14: 36, 9: 34, 4: 31, 6: 29, 13: 23, 12: 9, 2: 8, 7: 6, 15: 3, 1: 1, 16: 1})\n"
     ]
    }
   ],
   "source": [
    "model_17_centroids = KMeans(n_clusters=17, max_iter=2000).fit(x)\n",
    "result_17_centroids = model_17_centroids.predict(x)\n",
    "counter_17_centroids = collections.Counter(result_17_centroids)\n",
    "print(counter_17_centroids)"
   ]
  },
  {
   "cell_type": "code",
   "execution_count": 11,
   "metadata": {},
   "outputs": [],
   "source": [
    "result = pd.DataFrame(result_15_centroids)\n",
    "result.columns = ['Label']\n",
    "frames = [pd.Series(x.index.values), result]\n",
    "final = pd.concat(frames, axis=1)\n",
    "final.to_csv(\"clustering_ibge_data.csv\", index=False)\n",
    "final.to_json(r'clustering_ibge_data.json')"
   ]
  }
 ],
 "metadata": {
  "kernelspec": {
   "display_name": "Python 3",
   "language": "python",
   "name": "python3"
  },
  "language_info": {
   "codemirror_mode": {
    "name": "ipython",
    "version": 3
   },
   "file_extension": ".py",
   "mimetype": "text/x-python",
   "name": "python",
   "nbconvert_exporter": "python",
   "pygments_lexer": "ipython3",
   "version": "3.7.3"
  }
 },
 "nbformat": 4,
 "nbformat_minor": 2
}
