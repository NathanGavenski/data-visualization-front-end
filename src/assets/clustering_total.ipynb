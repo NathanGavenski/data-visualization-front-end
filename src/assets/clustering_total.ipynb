{
 "cells": [
  {
   "cell_type": "code",
   "execution_count": 1,
   "metadata": {},
   "outputs": [],
   "source": [
    "import json\n",
    "import numpy as np\n",
    "import pandas as pd\n",
    "\n",
    "from pandas.io.json import json_normalize\n",
    "from scipy.stats import zscore\n",
    "from scipy.spatial.distance import cdist\n",
    "import collections\n",
    "\n",
    "import matplotlib.pyplot as plt\n",
    "\n",
    "from sklearn.cluster import KMeans"
   ]
  },
  {
   "cell_type": "code",
   "execution_count": 2,
   "metadata": {},
   "outputs": [],
   "source": [
    "ibge = pd.read_csv(\"filled_ibge.csv\", index_col='City')"
   ]
  },
  {
   "cell_type": "code",
   "execution_count": 3,
   "metadata": {},
   "outputs": [],
   "source": [
    "with open(\"criminal-index-export.json\", \"r\") as read_file:\n",
    "    my_json = json.load(read_file)\n",
    "\n",
    "my_list = []\n",
    "y = []\n",
    "\n",
    "for key, value in my_json['rio_grande_do_sul'].items():\n",
    "    my_list.append(value['2018'])\n",
    "    y.append(key)\n",
    "\n",
    "crime_ = pd.DataFrame.from_records(my_list)    \n",
    "y = pd.DataFrame(y)\n",
    "crime_['City'] = y\n",
    "\n",
    "crime_.set_index(['City'], inplace=True)\n",
    "crime_.drop(['TOTAL'], inplace=True)"
   ]
  },
  {
   "cell_type": "code",
   "execution_count": 4,
   "metadata": {},
   "outputs": [
    {
     "data": {
      "text/plain": [
       "(496, 22)"
      ]
     },
     "execution_count": 4,
     "metadata": {},
     "output_type": "execute_result"
    }
   ],
   "source": [
    "ibge.shape"
   ]
  },
  {
   "cell_type": "code",
   "execution_count": 5,
   "metadata": {},
   "outputs": [
    {
     "data": {
      "text/plain": [
       "(498, 12)"
      ]
     },
     "execution_count": 5,
     "metadata": {},
     "output_type": "execute_result"
    }
   ],
   "source": [
    "crime_.shape"
   ]
  },
  {
   "cell_type": "code",
   "execution_count": 9,
   "metadata": {},
   "outputs": [],
   "source": [
    "missing_cities = set(crime_.index) - set(ibge.index)"
   ]
  },
  {
   "cell_type": "code",
   "execution_count": 10,
   "metadata": {},
   "outputs": [
    {
     "data": {
      "text/plain": [
       "{'DR MAURICIO CARDOSO', 'NÃO INFORMADO'}"
      ]
     },
     "execution_count": 10,
     "metadata": {},
     "output_type": "execute_result"
    }
   ],
   "source": [
    "missing_cities"
   ]
  },
  {
   "cell_type": "code",
   "execution_count": 11,
   "metadata": {},
   "outputs": [],
   "source": [
    "crime_ = crime_.drop(missing_cities)"
   ]
  },
  {
   "cell_type": "code",
   "execution_count": 12,
   "metadata": {},
   "outputs": [
    {
     "data": {
      "text/plain": [
       "(496, 12)"
      ]
     },
     "execution_count": 12,
     "metadata": {},
     "output_type": "execute_result"
    }
   ],
   "source": [
    "crime_.shape"
   ]
  },
  {
   "cell_type": "code",
   "execution_count": 14,
   "metadata": {},
   "outputs": [
    {
     "data": {
      "text/html": [
       "<div>\n",
       "<style scoped>\n",
       "    .dataframe tbody tr th:only-of-type {\n",
       "        vertical-align: middle;\n",
       "    }\n",
       "\n",
       "    .dataframe tbody tr th {\n",
       "        vertical-align: top;\n",
       "    }\n",
       "\n",
       "    .dataframe thead th {\n",
       "        text-align: right;\n",
       "    }\n",
       "</style>\n",
       "<table border=\"1\" class=\"dataframe\">\n",
       "  <thead>\n",
       "    <tr style=\"text-align: right;\">\n",
       "      <th></th>\n",
       "      <th>Delitos Relacionados à Armas e Munições</th>\n",
       "      <th>Entorpecentes - Posse</th>\n",
       "      <th>Entorpecentes - Tráfico</th>\n",
       "      <th>Estelionato</th>\n",
       "      <th>Furtos</th>\n",
       "      <th>Homicídio  Doloso</th>\n",
       "      <th>Latrocínio</th>\n",
       "      <th>Roubo de Veículo</th>\n",
       "      <th>Roubos</th>\n",
       "      <th>Veículo</th>\n",
       "      <th>Abigeato*</th>\n",
       "      <th>Total de vítimas de Homicidio Doloso</th>\n",
       "    </tr>\n",
       "    <tr>\n",
       "      <th>City</th>\n",
       "      <th></th>\n",
       "      <th></th>\n",
       "      <th></th>\n",
       "      <th></th>\n",
       "      <th></th>\n",
       "      <th></th>\n",
       "      <th></th>\n",
       "      <th></th>\n",
       "      <th></th>\n",
       "      <th></th>\n",
       "      <th></th>\n",
       "      <th></th>\n",
       "    </tr>\n",
       "  </thead>\n",
       "  <tbody>\n",
       "    <tr>\n",
       "      <th>ACEGUA</th>\n",
       "      <td>1</td>\n",
       "      <td>0</td>\n",
       "      <td>0</td>\n",
       "      <td>1</td>\n",
       "      <td>62</td>\n",
       "      <td>1</td>\n",
       "      <td>0</td>\n",
       "      <td>1</td>\n",
       "      <td>5</td>\n",
       "      <td>1</td>\n",
       "      <td>16</td>\n",
       "      <td>1</td>\n",
       "    </tr>\n",
       "    <tr>\n",
       "      <th>AGUA SANTA</th>\n",
       "      <td>1</td>\n",
       "      <td>0</td>\n",
       "      <td>1</td>\n",
       "      <td>2</td>\n",
       "      <td>31</td>\n",
       "      <td>0</td>\n",
       "      <td>0</td>\n",
       "      <td>2</td>\n",
       "      <td>0</td>\n",
       "      <td>3</td>\n",
       "      <td>3</td>\n",
       "      <td>0</td>\n",
       "    </tr>\n",
       "    <tr>\n",
       "      <th>AGUDO</th>\n",
       "      <td>12</td>\n",
       "      <td>14</td>\n",
       "      <td>15</td>\n",
       "      <td>16</td>\n",
       "      <td>119</td>\n",
       "      <td>2</td>\n",
       "      <td>0</td>\n",
       "      <td>0</td>\n",
       "      <td>5</td>\n",
       "      <td>1</td>\n",
       "      <td>11</td>\n",
       "      <td>2</td>\n",
       "    </tr>\n",
       "    <tr>\n",
       "      <th>AJURICABA</th>\n",
       "      <td>8</td>\n",
       "      <td>3</td>\n",
       "      <td>1</td>\n",
       "      <td>7</td>\n",
       "      <td>57</td>\n",
       "      <td>1</td>\n",
       "      <td>0</td>\n",
       "      <td>0</td>\n",
       "      <td>0</td>\n",
       "      <td>2</td>\n",
       "      <td>5</td>\n",
       "      <td>1</td>\n",
       "    </tr>\n",
       "    <tr>\n",
       "      <th>ALECRIM</th>\n",
       "      <td>15</td>\n",
       "      <td>7</td>\n",
       "      <td>8</td>\n",
       "      <td>8</td>\n",
       "      <td>79</td>\n",
       "      <td>1</td>\n",
       "      <td>0</td>\n",
       "      <td>0</td>\n",
       "      <td>3</td>\n",
       "      <td>1</td>\n",
       "      <td>18</td>\n",
       "      <td>1</td>\n",
       "    </tr>\n",
       "  </tbody>\n",
       "</table>\n",
       "</div>"
      ],
      "text/plain": [
       "             Delitos Relacionados à Armas e Munições   Entorpecentes - Posse  \\\n",
       "City                                                                           \n",
       "ACEGUA                                             1                       0   \n",
       "AGUA SANTA                                         1                       0   \n",
       "AGUDO                                             12                      14   \n",
       "AJURICABA                                          8                       3   \n",
       "ALECRIM                                           15                       7   \n",
       "\n",
       "             Entorpecentes - Tráfico   Estelionato   Furtos  \\\n",
       "City                                                          \n",
       "ACEGUA                             0             1       62   \n",
       "AGUA SANTA                         1             2       31   \n",
       "AGUDO                             15            16      119   \n",
       "AJURICABA                          1             7       57   \n",
       "ALECRIM                            8             8       79   \n",
       "\n",
       "             Homicídio  Doloso   Latrocínio   Roubo de Veículo   Roubos  \\\n",
       "City                                                                      \n",
       "ACEGUA                       1            0                  1        5   \n",
       "AGUA SANTA                   0            0                  2        0   \n",
       "AGUDO                        2            0                  0        5   \n",
       "AJURICABA                    1            0                  0        0   \n",
       "ALECRIM                      1            0                  0        3   \n",
       "\n",
       "             Veículo  Abigeato*  Total de vítimas de Homicidio Doloso  \n",
       "City                                                                   \n",
       "ACEGUA             1         16                                     1  \n",
       "AGUA SANTA         3          3                                     0  \n",
       "AGUDO              1         11                                     2  \n",
       "AJURICABA          2          5                                     1  \n",
       "ALECRIM            1         18                                     1  "
      ]
     },
     "execution_count": 14,
     "metadata": {},
     "output_type": "execute_result"
    }
   ],
   "source": [
    "crime_.head(5)"
   ]
  },
  {
   "cell_type": "code",
   "execution_count": 15,
   "metadata": {},
   "outputs": [
    {
     "data": {
      "text/html": [
       "<div>\n",
       "<style scoped>\n",
       "    .dataframe tbody tr th:only-of-type {\n",
       "        vertical-align: middle;\n",
       "    }\n",
       "\n",
       "    .dataframe tbody tr th {\n",
       "        vertical-align: top;\n",
       "    }\n",
       "\n",
       "    .dataframe thead th {\n",
       "        text-align: right;\n",
       "    }\n",
       "</style>\n",
       "<table border=\"1\" class=\"dataframe\">\n",
       "  <thead>\n",
       "    <tr style=\"text-align: right;\">\n",
       "      <th></th>\n",
       "      <th>fundamental_schools</th>\n",
       "      <th>fundamental_teachers</th>\n",
       "      <th>PIB</th>\n",
       "      <th>Área da unidade territorial</th>\n",
       "      <th>Esgotamento sanitário adequado</th>\n",
       "      <th>Matrículas no ensino fundamental</th>\n",
       "      <th>population_last_census</th>\n",
       "      <th>medium_schools</th>\n",
       "      <th>Matrículas no ensino médio</th>\n",
       "      <th>medium_teachers</th>\n",
       "      <th>...</th>\n",
       "      <th>IDEB</th>\n",
       "      <th>IDHM</th>\n",
       "      <th>Urbanização de vias públicas</th>\n",
       "      <th>average_salary</th>\n",
       "      <th>demographic_density</th>\n",
       "      <th>estabelecimento_sus</th>\n",
       "      <th>estimated_population</th>\n",
       "      <th>occupied_people</th>\n",
       "      <th>occupied_population</th>\n",
       "      <th>receitas_fontes_externas</th>\n",
       "    </tr>\n",
       "    <tr>\n",
       "      <th>City</th>\n",
       "      <th></th>\n",
       "      <th></th>\n",
       "      <th></th>\n",
       "      <th></th>\n",
       "      <th></th>\n",
       "      <th></th>\n",
       "      <th></th>\n",
       "      <th></th>\n",
       "      <th></th>\n",
       "      <th></th>\n",
       "      <th></th>\n",
       "      <th></th>\n",
       "      <th></th>\n",
       "      <th></th>\n",
       "      <th></th>\n",
       "      <th></th>\n",
       "      <th></th>\n",
       "      <th></th>\n",
       "      <th></th>\n",
       "      <th></th>\n",
       "      <th></th>\n",
       "    </tr>\n",
       "  </thead>\n",
       "  <tbody>\n",
       "    <tr>\n",
       "      <th>ACEGUA</th>\n",
       "      <td>4</td>\n",
       "      <td>45</td>\n",
       "      <td>52913.18</td>\n",
       "      <td>1551.339</td>\n",
       "      <td>82.2</td>\n",
       "      <td>658</td>\n",
       "      <td>4394</td>\n",
       "      <td>1</td>\n",
       "      <td>158</td>\n",
       "      <td>13</td>\n",
       "      <td>...</td>\n",
       "      <td>5.6</td>\n",
       "      <td>0.687</td>\n",
       "      <td>13.1</td>\n",
       "      <td>2.5</td>\n",
       "      <td>2.84</td>\n",
       "      <td>3.0</td>\n",
       "      <td>4858.0</td>\n",
       "      <td>953.0</td>\n",
       "      <td>20.1</td>\n",
       "      <td>85.2</td>\n",
       "    </tr>\n",
       "    <tr>\n",
       "      <th>AGUA SANTA</th>\n",
       "      <td>3</td>\n",
       "      <td>37</td>\n",
       "      <td>73762.48</td>\n",
       "      <td>291.503</td>\n",
       "      <td>64.2</td>\n",
       "      <td>466</td>\n",
       "      <td>3722</td>\n",
       "      <td>1</td>\n",
       "      <td>102</td>\n",
       "      <td>16</td>\n",
       "      <td>...</td>\n",
       "      <td>5.8</td>\n",
       "      <td>0.750</td>\n",
       "      <td>15.4</td>\n",
       "      <td>2.5</td>\n",
       "      <td>12.76</td>\n",
       "      <td>4.0</td>\n",
       "      <td>3753.0</td>\n",
       "      <td>685.0</td>\n",
       "      <td>17.8</td>\n",
       "      <td>81.6</td>\n",
       "    </tr>\n",
       "    <tr>\n",
       "      <th>AGUDO</th>\n",
       "      <td>10</td>\n",
       "      <td>119</td>\n",
       "      <td>24771.79</td>\n",
       "      <td>534.624</td>\n",
       "      <td>68.1</td>\n",
       "      <td>1744</td>\n",
       "      <td>16722</td>\n",
       "      <td>2</td>\n",
       "      <td>435</td>\n",
       "      <td>40</td>\n",
       "      <td>...</td>\n",
       "      <td>5.9</td>\n",
       "      <td>0.694</td>\n",
       "      <td>27.1</td>\n",
       "      <td>2.1</td>\n",
       "      <td>31.19</td>\n",
       "      <td>7.0</td>\n",
       "      <td>16524.0</td>\n",
       "      <td>3155.0</td>\n",
       "      <td>18.4</td>\n",
       "      <td>73.8</td>\n",
       "    </tr>\n",
       "    <tr>\n",
       "      <th>AJURICABA</th>\n",
       "      <td>7</td>\n",
       "      <td>72</td>\n",
       "      <td>35748.66</td>\n",
       "      <td>322.671</td>\n",
       "      <td>17.4</td>\n",
       "      <td>729</td>\n",
       "      <td>7255</td>\n",
       "      <td>1</td>\n",
       "      <td>137</td>\n",
       "      <td>20</td>\n",
       "      <td>...</td>\n",
       "      <td>6.2</td>\n",
       "      <td>0.753</td>\n",
       "      <td>13.0</td>\n",
       "      <td>2.1</td>\n",
       "      <td>22.44</td>\n",
       "      <td>4.0</td>\n",
       "      <td>7063.0</td>\n",
       "      <td>1391.0</td>\n",
       "      <td>18.9</td>\n",
       "      <td>87.5</td>\n",
       "    </tr>\n",
       "    <tr>\n",
       "      <th>ALECRIM</th>\n",
       "      <td>6</td>\n",
       "      <td>44</td>\n",
       "      <td>14880.75</td>\n",
       "      <td>316.510</td>\n",
       "      <td>13.9</td>\n",
       "      <td>613</td>\n",
       "      <td>7045</td>\n",
       "      <td>1</td>\n",
       "      <td>150</td>\n",
       "      <td>13</td>\n",
       "      <td>...</td>\n",
       "      <td>6.3</td>\n",
       "      <td>0.672</td>\n",
       "      <td>2.1</td>\n",
       "      <td>2.1</td>\n",
       "      <td>22.38</td>\n",
       "      <td>7.0</td>\n",
       "      <td>6077.0</td>\n",
       "      <td>669.0</td>\n",
       "      <td>9.8</td>\n",
       "      <td>79.7</td>\n",
       "    </tr>\n",
       "  </tbody>\n",
       "</table>\n",
       "<p>5 rows × 22 columns</p>\n",
       "</div>"
      ],
      "text/plain": [
       "            fundamental_schools  fundamental_teachers       PIB  \\\n",
       "City                                                              \n",
       "ACEGUA                        4                    45  52913.18   \n",
       "AGUA SANTA                    3                    37  73762.48   \n",
       "AGUDO                        10                   119  24771.79   \n",
       "AJURICABA                     7                    72  35748.66   \n",
       "ALECRIM                       6                    44  14880.75   \n",
       "\n",
       "            Área da unidade territorial  Esgotamento sanitário adequado  \\\n",
       "City                                                                      \n",
       "ACEGUA                         1551.339                            82.2   \n",
       "AGUA SANTA                      291.503                            64.2   \n",
       "AGUDO                           534.624                            68.1   \n",
       "AJURICABA                       322.671                            17.4   \n",
       "ALECRIM                         316.510                            13.9   \n",
       "\n",
       "            Matrículas no ensino fundamental  population_last_census  \\\n",
       "City                                                                   \n",
       "ACEGUA                                   658                    4394   \n",
       "AGUA SANTA                               466                    3722   \n",
       "AGUDO                                   1744                   16722   \n",
       "AJURICABA                                729                    7255   \n",
       "ALECRIM                                  613                    7045   \n",
       "\n",
       "            medium_schools  Matrículas no ensino médio  medium_teachers  ...  \\\n",
       "City                                                                     ...   \n",
       "ACEGUA                   1                         158               13  ...   \n",
       "AGUA SANTA               1                         102               16  ...   \n",
       "AGUDO                    2                         435               40  ...   \n",
       "AJURICABA                1                         137               20  ...   \n",
       "ALECRIM                  1                         150               13  ...   \n",
       "\n",
       "            IDEB   IDHM  Urbanização de vias públicas  average_salary  \\\n",
       "City                                                                    \n",
       "ACEGUA       5.6  0.687                          13.1             2.5   \n",
       "AGUA SANTA   5.8  0.750                          15.4             2.5   \n",
       "AGUDO        5.9  0.694                          27.1             2.1   \n",
       "AJURICABA    6.2  0.753                          13.0             2.1   \n",
       "ALECRIM      6.3  0.672                           2.1             2.1   \n",
       "\n",
       "            demographic_density  estabelecimento_sus  estimated_population  \\\n",
       "City                                                                         \n",
       "ACEGUA                     2.84                  3.0                4858.0   \n",
       "AGUA SANTA                12.76                  4.0                3753.0   \n",
       "AGUDO                     31.19                  7.0               16524.0   \n",
       "AJURICABA                 22.44                  4.0                7063.0   \n",
       "ALECRIM                   22.38                  7.0                6077.0   \n",
       "\n",
       "            occupied_people  occupied_population  receitas_fontes_externas  \n",
       "City                                                                        \n",
       "ACEGUA                953.0                 20.1                      85.2  \n",
       "AGUA SANTA            685.0                 17.8                      81.6  \n",
       "AGUDO                3155.0                 18.4                      73.8  \n",
       "AJURICABA            1391.0                 18.9                      87.5  \n",
       "ALECRIM               669.0                  9.8                      79.7  \n",
       "\n",
       "[5 rows x 22 columns]"
      ]
     },
     "execution_count": 15,
     "metadata": {},
     "output_type": "execute_result"
    }
   ],
   "source": [
    "ibge.head(5)"
   ]
  },
  {
   "cell_type": "code",
   "execution_count": 16,
   "metadata": {},
   "outputs": [],
   "source": [
    "crime_ = ( crime_ /1000 )\n",
    "crime_ = crime_.apply(zscore)\n",
    "ibge = ibge.apply(zscore)"
   ]
  },
  {
   "cell_type": "code",
   "execution_count": 17,
   "metadata": {},
   "outputs": [],
   "source": [
    "total = pd.concat([crime_, ibge], axis=1)"
   ]
  },
  {
   "cell_type": "code",
   "execution_count": 18,
   "metadata": {},
   "outputs": [
    {
     "data": {
      "text/plain": [
       "(496, 34)"
      ]
     },
     "execution_count": 18,
     "metadata": {},
     "output_type": "execute_result"
    }
   ],
   "source": [
    "total.shape"
   ]
  },
  {
   "cell_type": "code",
   "execution_count": 19,
   "metadata": {},
   "outputs": [],
   "source": [
    "distortions = []\n",
    "K = range(1, 30)\n",
    "for k in K:\n",
    "    model = KMeans(n_clusters=k, max_iter=2500).fit(total)\n",
    "    distortions.append(sum(np.min(cdist(total, model.cluster_centers_, 'euclidean'), axis=1)) / total.shape[0])"
   ]
  },
  {
   "cell_type": "code",
   "execution_count": 20,
   "metadata": {},
   "outputs": [
    {
     "data": {
      "image/png": "[encoded data removed]",
      "text/plain": [
       "<Figure size 1296x720 with 1 Axes>"
      ]
     },
     "metadata": {
      "needs_background": "light"
     },
     "output_type": "display_data"
    }
   ],
   "source": [
    "fig_size = plt.rcParams[\"figure.figsize\"]\n",
    "fig_size[0] = 18\n",
    "fig_size[1] = 10\n",
    "plt.rcParams[\"figure.figsize\"] = fig_size\n",
    "\n",
    "plt.plot(K, distortions, 'bx-')\n",
    "plt.xlabel('k')\n",
    "plt.ylabel('Distortion')\n",
    "plt.title('The Elbow Method showing the optimal k')\n",
    "plt.show()"
   ]
  },
  {
   "cell_type": "code",
   "execution_count": 25,
   "metadata": {},
   "outputs": [
    {
     "name": "stdout",
     "output_type": "stream",
     "text": [
      "Counter({6: 94, 9: 84, 10: 55, 4: 49, 5: 47, 11: 44, 0: 34, 12: 29, 2: 20, 7: 17, 13: 7, 8: 6, 15: 4, 14: 4, 3: 1, 1: 1})\n"
     ]
    }
   ],
   "source": [
    "model_16_centroids = KMeans(n_clusters=16, max_iter=2000).fit(total)\n",
    "result_16_centroids = model_16_centroids.predict(total)\n",
    "counter_16_centroids = collections.Counter(result_16_centroids)\n",
    "print(counter_16_centroids)"
   ]
  },
  {
   "cell_type": "code",
   "execution_count": 22,
   "metadata": {},
   "outputs": [
    {
     "name": "stdout",
     "output_type": "stream",
     "text": [
      "Counter({7: 52, 11: 50, 21: 45, 17: 42, 8: 38, 5: 36, 19: 29, 2: 28, 9: 27, 22: 26, 14: 25, 4: 25, 0: 23, 18: 19, 15: 8, 10: 5, 6: 4, 3: 3, 13: 3, 20: 3, 12: 2, 23: 1, 1: 1, 16: 1})\n"
     ]
    }
   ],
   "source": [
    "model_24_centroids = KMeans(n_clusters=24, max_iter=2000).fit(total)\n",
    "result_24_centroids = model_24_centroids.predict(total)\n",
    "counter_24_centroids = collections.Counter(result_24_centroids)\n",
    "print(counter_24_centroids)"
   ]
  },
  {
   "cell_type": "code",
   "execution_count": 23,
   "metadata": {},
   "outputs": [
    {
     "name": "stdout",
     "output_type": "stream",
     "text": [
      "Counter({17: 79, 0: 48, 16: 47, 4: 47, 8: 35, 12: 35, 3: 30, 20: 29, 9: 28, 13: 27, 7: 18, 23: 17, 5: 17, 24: 10, 21: 7, 6: 5, 22: 3, 10: 3, 15: 3, 11: 3, 2: 1, 14: 1, 18: 1, 1: 1, 19: 1})\n"
     ]
    }
   ],
   "source": [
    "model_25_centroids = KMeans(n_clusters=25, max_iter=2000).fit(total)\n",
    "result_25_centroids = model_25_centroids.predict(total)\n",
    "counter_25_centroids = collections.Counter(result_25_centroids)\n",
    "print(counter_25_centroids)"
   ]
  },
  {
   "cell_type": "code",
   "execution_count": 24,
   "metadata": {},
   "outputs": [
    {
     "name": "stdout",
     "output_type": "stream",
     "text": [
      "Counter({3: 49, 25: 48, 14: 46, 4: 41, 16: 38, 13: 31, 19: 30, 23: 30, 11: 29, 0: 25, 6: 24, 20: 22, 9: 16, 21: 15, 2: 12, 24: 10, 15: 6, 8: 5, 5: 5, 18: 4, 10: 4, 7: 2, 22: 1, 17: 1, 1: 1, 12: 1})\n"
     ]
    }
   ],
   "source": [
    "model_26_centroids = KMeans(n_clusters=26, max_iter=2000).fit(total)\n",
    "result_26_centroids = model_26_centroids.predict(total)\n",
    "counter_26_centroids = collections.Counter(result_26_centroids)\n",
    "print(counter_26_centroids)"
   ]
  },
  {
   "cell_type": "code",
   "execution_count": 26,
   "metadata": {},
   "outputs": [],
   "source": [
    "result = pd.DataFrame(result_24_centroids)\n",
    "result.columns = ['Label']\n",
    "frames = [pd.Series(total.index.values), result]\n",
    "final = pd.concat(frames, axis=1)\n",
    "final.to_csv(\"clustering_total_data.csv\", index=False)\n",
    "final.to_json(r'clustering_total_data.json')"
   ]
  }
 ],
 "metadata": {
  "kernelspec": {
   "display_name": "Python 3",
   "language": "python",
   "name": "python3"
  },
  "language_info": {
   "codemirror_mode": {
    "name": "ipython",
    "version": 3
   },
   "file_extension": ".py",
   "mimetype": "text/x-python",
   "name": "python",
   "nbconvert_exporter": "python",
   "pygments_lexer": "ipython3",
   "version": "3.7.3"
  }
 },
 "nbformat": 4,
 "nbformat_minor": 2
}
